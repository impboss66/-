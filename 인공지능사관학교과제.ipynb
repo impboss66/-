{
  "nbformat": 4,
  "nbformat_minor": 0,
  "metadata": {
    "colab": {
      "name": "Colaboratory에 오신 것을 환영합니다",
      "provenance": [],
      "collapsed_sections": [],
      "include_colab_link": true
    },
    "kernelspec": {
      "display_name": "Python 3",
      "name": "python3"
    }
  },
  "cells": [
    {
      "cell_type": "markdown",
      "metadata": {
        "id": "view-in-github",
        "colab_type": "text"
      },
      "source": [
        "<a href=\"https://colab.research.google.com/github/impboss66/-/blob/master/%EC%9D%B8%EA%B3%B5%EC%A7%80%EB%8A%A5%EC%82%AC%EA%B4%80%ED%95%99%EA%B5%90%EA%B3%BC%EC%A0%9C.ipynb\" target=\"_parent\"><img src=\"https://colab.research.google.com/assets/colab-badge.svg\" alt=\"Open In Colab\"/></a>"
      ]
    },
    {
      "cell_type": "markdown",
      "metadata": {
        "colab_type": "text",
        "id": "5fCEDCU_qrC0"
      },
      "source": [
        "<p><img alt=\"Colaboratory logo\" height=\"45px\" src=\"/img/colab_favicon.ico\" align=\"left\" hspace=\"10px\" vspace=\"0px\"></p>\n",
        "\n",
        "<h1>Colaboratory란?</h1>\n",
        "\n",
        "Colaboratory&#40;또는 줄여서 'Colab'&#41;를 사용하면 브라우저에서 Python을 작성하고 실행할 수 있습니다. \n",
        "- 구성 필요 없음\n",
        "- GPU 무료 액세스\n",
        "- 간편한 공유\n",
        "\n",
        "<strong>학생</strong>이든, <strong>데이터 과학자</strong>든, <strong>AI 연구원</strong>이든 Colab으로 업무를 더욱 간편하게 처리할 수 있습니다. <a href=\"https://www.youtube.com/watch?v=inN8seMm7UI\">Colab 소개 영상</a>에서 자세한 내용을 확인하거나 아래에서 시작해 보세요."
      ]
    },
    {
      "cell_type": "markdown",
      "metadata": {
        "id": "SChjfwPwEcs4",
        "colab_type": "text"
      },
      "source": [
        "# 인공지능사관학교 1주차\n",
        "\n",
        "주제:음성인식 인공지능 AI\n",
        "\n",
        "1.카카오미니 https://kakao.ai/product/kakaomini -카카오에서 개발한 인공지능 스피커이다. (특징) 카카오톡 연동과 멜론스트리밍 서비스를 제공한다.\n",
        "\n",
        "2.누구 https://www.nugu.co.kr/ -SKT에서 개발한 인공지능 스피커이다. (특징) TV연동및 여러 음악 스트리밍 서비스를 제공한다.\n",
        "\n",
        "3.클로버 https://clova.ai/ko/ko-product-friends.html -네이버에서 개발한 인공지능 스피커이다. (특징) 스마트폰을 연동하여 여러기능을 제공한다. 귀여운 디자인이 특징이다.\n",
        "\n",
        "4.구글홈(미니) https://store.google.com/magazine/compare_nest_speakers_displays -구글에서 개발한 인공지능 스피커이다 (특징) 구글 어시스턴트 기반으로 여러기능을 제공하며 국내정발 제품이다.\n",
        "\n",
        "-번외- 게이트박스 https://www.gatebox.ai/en/ 혼자사는 1인가구를 겨냥하여 만든 인공지능 비서이며 간단한 대화및 가구제어등 여러기능이있다.[링크 텍스트](https:// [링크 텍스트](https://))"
      ]
    }
  ]
}