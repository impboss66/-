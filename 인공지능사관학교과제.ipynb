
      "source": [
        "# 인공지능사관학교 1주차\n",
        "\n",
        "주제:음성인식 인공지능 AI\n",
        "\n",
        "1.카카오미니 https://kakao.ai/product/kakaomini -카카오에서 개발한 인공지능 스피커이다. (특징) 카카오톡 연동과 멜론스트리밍 서비스를 제공한다.\n",
        "\n",
        "2.누구 https://www.nugu.co.kr/ -SKT에서 개발한 인공지능 스피커이다. (특징) TV연동및 여러 음악 스트리밍 서비스를 제공한다.\n",
        "\n",
        "3.클로버 https://clova.ai/ko/ko-product-friends.html -네이버에서 개발한 인공지능 스피커이다. (특징) 스마트폰을 연동하여 여러기능을 제공한다. 귀여운 디자인이 특징이다.\n",
        "\n",
        "4.구글홈(미니) https://store.google.com/magazine/compare_nest_speakers_displays -구글에서 개발한 인공지능 스피커이다 (특징) 구글 어시스턴트 기반으로 여러기능을 제공하며 국내정발 제품이다.\n",
        "\n",
        "-번외- 게이트박스 https://www.gatebox.ai/en/ 혼자사는 1인가구를 겨냥하여 만든 인공지능 비서이며 간단한 대화및 가구제어등 여러기능이있다.[링크 텍스트](https:// [링크 텍스트](https://))"
      ]
    }
  ]
}
